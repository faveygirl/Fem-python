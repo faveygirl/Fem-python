{
 "cells": [
  {
   "cell_type": "markdown",
   "metadata": {},
   "source": [
    "## Complete the program with the banks below:"
   ]
  },
  {
   "cell_type": "code",
   "execution_count": null,
   "metadata": {},
   "outputs": [],
   "source": [
    "#076 : Access\n",
    "#405 : Eco\n",
    "#023:GTB\n",
    "#005:Sterling\n",
    "#205:Zenith\n",
    "#304:First\n"
   ]
  },
  {
   "cell_type": "code",
   "execution_count": 37,
   "metadata": {},
   "outputs": [],
   "source": [
    "import random\n",
    "def get_acct_specific1(bank):\n",
    "    if bank.lower()==\"eco\":\n",
    "        acct_number='405'\n",
    "    elif bank.lower()==\"access\":\n",
    "        acct_number='076'\n",
    "    elif bank.upper()==\"GTB\":\n",
    "        acct_number='023'\n",
    "    elif bank.lower()==\"sterling\":\n",
    "        acct_number='005'\n",
    "    elif bank.lower()==\"zenith\":\n",
    "        acct_number='205'\n",
    "    elif bank.lower()==\"first\":\n",
    "        acct_number='304'\n",
    "    for i in range(7):\n",
    "        number=random.randint(0,9)\n",
    "        acct_number = acct_number+str(number)\n",
    "    return acct_number"
   ]
  },
  {
   "cell_type": "code",
   "execution_count": 38,
   "metadata": {},
   "outputs": [
    {
     "data": {
      "text/plain": [
       "'0761661158'"
      ]
     },
     "execution_count": 38,
     "metadata": {},
     "output_type": "execute_result"
    }
   ],
   "source": [
    "get_acct_specific1(\"access\")"
   ]
  },
  {
   "cell_type": "code",
   "execution_count": 40,
   "metadata": {},
   "outputs": [
    {
     "data": {
      "text/plain": [
       "'2052964019'"
      ]
     },
     "execution_count": 40,
     "metadata": {},
     "output_type": "execute_result"
    }
   ],
   "source": [
    " get_acct_specific1(\"zenith\")"
   ]
  },
  {
   "cell_type": "markdown",
   "metadata": {},
   "source": [
    "## Python Workbook questions\n",
    "### Question 2-6\n",
    "#### Question 2"
   ]
  },
  {
   "cell_type": "code",
   "execution_count": 43,
   "metadata": {},
   "outputs": [
    {
     "name": "stdout",
     "output_type": "stream",
     "text": [
      "Enter your name:Fvaour Udoh-King\n",
      "Hello Fvaour Udoh-King\n"
     ]
    }
   ],
   "source": [
    "name=input(\"Enter your name:\")   \n",
    "message=\"Hello\"+\" \"+ name\n",
    "print(message)"
   ]
  },
  {
   "cell_type": "markdown",
   "metadata": {},
   "source": [
    "### Question 3"
   ]
  },
  {
   "cell_type": "code",
   "execution_count": 48,
   "metadata": {},
   "outputs": [
    {
     "name": "stdout",
     "output_type": "stream",
     "text": [
      "area of the room:70\n",
      "length of the room:80\n",
      "The area of the room is 5600.0feets\n"
     ]
    }
   ],
   "source": [
    "width_of_a_room=float(input(\"area of the room:\"))\n",
    "length_of_a_room=float(input(\"length of the room:\"))\n",
    "area=width_of_a_room*length_of_a_room\n",
    "print(\"The area of the room is\"+\" \"+ str(area) +\"feets\")"
   ]
  },
  {
   "cell_type": "markdown",
   "metadata": {},
   "source": [
    "### Question 4"
   ]
  },
  {
   "cell_type": "code",
   "execution_count": 17,
   "metadata": {},
   "outputs": [
    {
     "name": "stdout",
     "output_type": "stream",
     "text": [
      "Enter the length of the field:70\n",
      "Enter the width of the field:102\n",
      "The area of the farmer's field is 0.16acres\n"
     ]
    }
   ],
   "source": [
    "square_feet_in_an_acre=43560\n",
    "lenth_of_farmers_field=float(input(\"Enter the length of the field:\"))\n",
    "width_of_farmers_field=float(input(\"Enter the width of the field:\"))\n",
    "Area_of_field_in_acres=(lenth_of_farmers_field*width_of_farmers_field)/square_feet_in_an_acre\n",
    "print(f\"The area of the farmer's field is {round(Area_of_field_in_acres,2)}acres\")"
   ]
  },
  {
   "cell_type": "markdown",
   "metadata": {},
   "source": [
    "### Question 5"
   ]
  },
  {
   "cell_type": "code",
   "execution_count": 24,
   "metadata": {},
   "outputs": [
    {
     "name": "stdout",
     "output_type": "stream",
     "text": [
      "Enter the number of litres2\n",
      "Enter the amount300\n",
      "The refund to be received is 599.75\n"
     ]
    }
   ],
   "source": [
    "drink_container_in_litres=float(input(\"Enter the number of litres\"))\n",
    "drink_amount=float(input(\"Enter the amount\"))\n",
    "if drink_container_in_litres<=1:\n",
    "    refund_received=drink_container_in_litres*drink_amount-0.10\n",
    "    print(round(refund_received,2))\n",
    "else:\n",
    "    refund_received2=drink_container_in_litres*drink_amount-0.25\n",
    "    print(f\"The refund to be received is {round(refund_received2,2)}\")\n"
   ]
  },
  {
   "cell_type": "markdown",
   "metadata": {},
   "source": [
    "### Question 6"
   ]
  },
  {
   "cell_type": "code",
   "execution_count": 29,
   "metadata": {},
   "outputs": [
    {
     "name": "stdout",
     "output_type": "stream",
     "text": [
      "Enter the cost of the meal:500\n",
      "37.5\n",
      "90.0\n",
      "The total amount of the meal is628\n"
     ]
    }
   ],
   "source": [
    "cost_of_a_meal=float(input(\"Enter the cost of the meal:\"))\n",
    "tax=0.075*cost_of_a_meal\n",
    "print(tax)\n",
    "tip=0.18*cost_of_a_meal\n",
    "print(tip)\n",
    "Total_amount_of_meal=cost_of_a_meal+tax+tip\n",
    "print(f\"The total amount of the meal is{round(Total_amount_of_meal)}\")\n"
   ]
  }
 ],
 "metadata": {
  "kernelspec": {
   "display_name": "Python 3",
   "language": "python",
   "name": "python3"
  },
  "language_info": {
   "codemirror_mode": {
    "name": "ipython",
    "version": 3
   },
   "file_extension": ".py",
   "mimetype": "text/x-python",
   "name": "python",
   "nbconvert_exporter": "python",
   "pygments_lexer": "ipython3",
   "version": "3.8.3"
  }
 },
 "nbformat": 4,
 "nbformat_minor": 4
}
