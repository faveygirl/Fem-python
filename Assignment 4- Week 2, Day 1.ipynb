{
 "cells": [
  {
   "cell_type": "markdown",
   "metadata": {},
   "source": [
    "## Question 1\n",
    "#Write a program that takes the ages of 10 persons and sum their ages only if the ages are greater than 18,if not, do not sum or print an error message."
   ]
  },
  {
   "cell_type": "code",
   "execution_count": 10,
   "metadata": {},
   "outputs": [
    {
     "name": "stdout",
     "output_type": "stream",
     "text": [
      "Enter your age:1\n",
      "Enter your age:1\n",
      "Enter your age:1\n",
      "Enter your age:1\n",
      "Enter your age:1\n",
      "Enter your age:1\n",
      "Enter your age:1\n",
      "Enter your age:1\n",
      "Enter your age:1\n",
      "Enter your age:1\n",
      "error\n"
     ]
    }
   ],
   "source": [
    "sum_of_ages=0\n",
    "for lcv in range(10):\n",
    "    ages=int(input(\"Enter your age:\"))\n",
    "    sum_of_ages=sum_of_ages+ages\n",
    "if sum_of_ages>=18:    \n",
    "    print(sum_of_ages)\n",
    "else:\n",
    "    print(\"error\")\n",
    "\n"
   ]
  },
  {
   "cell_type": "markdown",
   "metadata": {},
   "source": [
    "## Question 2\n",
    "#Write a program that will calculate the factorial of any number."
   ]
  },
  {
   "cell_type": "code",
   "execution_count": 49,
   "metadata": {},
   "outputs": [
    {
     "name": "stdout",
     "output_type": "stream",
     "text": [
      "Enter a number:8\n",
      "The factor of 8 is 40320\n"
     ]
    }
   ],
   "source": [
    "number=int(input(\"Enter a number:\"))\n",
    "factor=1\n",
    "for lcv in range(1,number+1):\n",
    "    factor=factor*lcv\n",
    "print(\"The factor of {} is {}\".format(number,factor))"
   ]
  }
 ],
 "metadata": {
  "kernelspec": {
   "display_name": "Python 3",
   "language": "python",
   "name": "python3"
  }
 },
 "nbformat": 4,
 "nbformat_minor": 4
}
