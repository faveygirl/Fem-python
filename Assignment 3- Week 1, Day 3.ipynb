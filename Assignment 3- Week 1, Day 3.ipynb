{
 "cells": [
  {
   "cell_type": "markdown",
   "metadata": {},
   "source": [
    "# Page 22"
   ]
  },
  {
   "cell_type": "code",
   "execution_count": 11,
   "metadata": {
    "scrolled": true
   },
   "outputs": [
    {
     "name": "stdout",
     "output_type": "stream",
     "text": [
      "30\n",
      "40\n",
      "50\n",
      "600.0\n"
     ]
    }
   ],
   "source": [
    "lengths1=float(input())\n",
    "lengths2=float(input())\n",
    "lengths3=float(input())\n",
    "length_s=(lengths1+lengths2+lengths3)/2\n",
    "area_of_a_triangle=(length_s*(length_s-lengths1)*(length_s-lengths2)*(length_s-lengths3))**0.5\n",
    "print(area_of_a_triangle)\n"
   ]
  },
  {
   "cell_type": "markdown",
   "metadata": {},
   "source": [
    "# Page 29"
   ]
  },
  {
   "cell_type": "code",
   "execution_count": 14,
   "metadata": {},
   "outputs": [
    {
     "name": "stdout",
     "output_type": "stream",
     "text": [
      "Enter temperature in degree celsuis:50.0\n",
      "122.0degree fahrenheit\n",
      "323.15degree kelvin\n"
     ]
    }
   ],
   "source": [
    "temperature=float(input(\"Enter temperature in degree celsuis:\"))\n",
    "degree_celsius_to_fahrenheit=(temperature*9/5)+32\n",
    "degree_celsius_to_kelvin=(temperature+273.15)\n",
    "print(str(degree_celsius_to_fahrenheit)+\"degree fahrenheit\")\n",
    "print(str(degree_celsius_to_kelvin)+\"degree kelvin\")"
   ]
  },
  {
   "cell_type": "markdown",
   "metadata": {},
   "source": [
    "# Page 34"
   ]
  },
  {
   "cell_type": "code",
   "execution_count": 17,
   "metadata": {
    "scrolled": true
   },
   "outputs": [
    {
     "name": "stdout",
     "output_type": "stream",
     "text": [
      "Enter a number:3\n",
      "This is an odd number\n"
     ]
    }
   ],
   "source": [
    "n=int(input(\"Enter a number:\"))\n",
    "cal=n%2\n",
    "if cal>0:\n",
    "    print(\"This is an odd number\")\n",
    "else:\n",
    "    print(\"This is an even number\")"
   ]
  },
  {
   "cell_type": "markdown",
   "metadata": {},
   "source": [
    "# Page 37"
   ]
  },
  {
   "cell_type": "markdown",
   "metadata": {},
   "source": [
    "### Name That Shape"
   ]
  },
  {
   "cell_type": "code",
   "execution_count": 10,
   "metadata": {},
   "outputs": [
    {
     "name": "stdout",
     "output_type": "stream",
     "text": [
      "Enter the number of sides a shape:6\n",
      "This is a Hexagon\n"
     ]
    }
   ],
   "source": [
    "\n",
    "number_of_sides_of_shape=int(input(\"Enter the number of sides a shape:\"))\n",
    "\n",
    "if number_of_sides_of_shape==3:\n",
    "    print(\"This is a Triangle\")\n",
    "elif number_of_sides_of_shape==4:\n",
    "    print(\"This is a Quadrilateral\")\n",
    "elif number_of_sides_of_shape==5:\n",
    "    print(\"This is a Pentagon\")\n",
    "elif number_of_sides_of_shape==6:\n",
    "    print(\"This is a Hexagon\")\n",
    "elif number_of_sides_of_shape==7:\n",
    "    print(\"This is a Heptagon\")\n",
    "elif number_of_sides_of_shape==8:\n",
    "    print(\"This is a octagon\")\n",
    "elif number_of_sides_of_shape==9:\n",
    "    print(\"This is a Nonagon\")\n",
    "elif number_of_sides_of_shape==10:\n",
    "    print(\"This is a Decagon\")\n",
    "else:\n",
    "    print(\"This is not within the range\")\n"
   ]
  },
  {
   "cell_type": "markdown",
   "metadata": {},
   "source": [
    "# Page 40"
   ]
  },
  {
   "cell_type": "markdown",
   "metadata": {},
   "source": [
    "### Name That Triangle"
   ]
  },
  {
   "cell_type": "code",
   "execution_count": 23,
   "metadata": {},
   "outputs": [
    {
     "name": "stdout",
     "output_type": "stream",
     "text": [
      "Enter side 1 of a traiangle:5\n",
      "Enter side 1 of a traiangle:3\n",
      "Enter side 1 of a traiangle:6\n",
      "This is a scalene triangle \n"
     ]
    }
   ],
   "source": [
    "Triangle_side_1=int(input(\"Enter side 1 of a traiangle:\"))\n",
    "Triangle_side_2=int(input(\"Enter side 1 of a traiangle:\"))\n",
    "Triangle_side_3=int(input(\"Enter side 1 of a traiangle:\"))\n",
    "\n",
    "if Triangle_side_1==Triangle_side_2 and Triangle_side_2==Triangle_side_3:\n",
    "    print(\"This is an equilateral triangle\")\n",
    "elif  Triangle_side_1==Triangle_side_2 or Triangle_side_2==Triangle_side_3 or Triangle_side_3==Triangle_side_1:\n",
    "    print(\"This is an isosceles triangle\")\n",
    "else:\n",
    "    print(\"This is a scalene triangle \")"
   ]
  }
 ],
 "metadata": {
  "kernelspec": {
   "display_name": "Python 3",
   "language": "python",
   "name": "python3"
  },
  "language_info": {
   "codemirror_mode": {
    "name": "ipython",
    "version": 3
   },
   "file_extension": ".py",
   "mimetype": "text/x-python",
   "name": "python",
   "nbconvert_exporter": "python",
   "pygments_lexer": "ipython3",
   "version": "3.8.3"
  }
 },
 "nbformat": 4,
 "nbformat_minor": 4
}
